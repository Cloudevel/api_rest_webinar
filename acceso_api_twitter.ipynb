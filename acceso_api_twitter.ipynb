{
 "cells": [
  {
   "cell_type": "markdown",
   "metadata": {},
   "source": [
    "[![cloudevel](imagenes/cloudevel-fondo-twitter.png)](https://cloudevel.com)"
   ]
  },
  {
   "cell_type": "markdown",
   "metadata": {},
   "source": [
    "# Acceso a API de twitter."
   ]
  },
  {
   "cell_type": "markdown",
   "metadata": {},
   "source": [
    "## La API de Twitter.\n",
    "\n",
    "Como en el caso de prácticamente todas las redes sociales, Twitter ha puesto a disposición de los desarrolladores una API basada en RESTFul. \n",
    "\n",
    "Es posible acceder a dicha API utilizando los métodos de HTTP. La documentación de la API puede ser vista en https://developer.twitter.com/en/docs/api-reference-index.\n",
    "\n",
    "En el caso de Twitter, la autenticación se realiza mendiante OAuth versión 1."
   ]
  },
  {
   "cell_type": "markdown",
   "metadata": {},
   "source": [
    "## Las bibliotecas *oauthlib* y  *requests_oauthlib*.\n",
    "La biblioteca [*oauthlib*](https://oauthlib.readthedocs.io/en/latest/) es una biblioteca que permite realizar la autenticación a un servidor hace uso del protocolo [OAuth](https://oauth.net/) para acceder a este. Sitios como Facebook, Twitter, Linkedin, GitHub y Google entre otros, utilizan este protocolo.\n",
    "\n",
    "Es posible acceder a sitios que utilizan dicho protocolo mediante *oauthlib* e incluso existe la biblioteca [requests_oauthlib](http://requests-oauthlib.readthedocs.io/en/latest/), la cual es una implementación de *requests* para acceder mediate este protocolo. "
   ]
  },
  {
   "cell_type": "code",
   "execution_count": null,
   "metadata": {
    "collapsed": true
   },
   "outputs": [],
   "source": [
    "import json, requests"
   ]
  },
  {
   "cell_type": "code",
   "execution_count": null,
   "metadata": {
    "collapsed": true
   },
   "outputs": [],
   "source": [
    "from requests_oauthlib import OAuth1Session"
   ]
  },
  {
   "cell_type": "markdown",
   "metadata": {},
   "source": [
    "## Función que importa las credenciales de acceso a la API de Twitter.\n",
    "\n",
    "Las credenciales de la API de Tiwtter se adquieren cuando se registra un proyecto en https://apps.twitter.com/.\n",
    "\n",
    "Las credenciales para acceder a la API deben de tratarse con extrema confidencialidad. Es por eso que esa información debe de ser guardada en un archivo de texto localizado en *[data/credenciales.txt](*\n",
    "\n",
    "La función *credenciales._tw()* tiene como objetivo extraer las credenciales a partir de la ruta archivo."
   ]
  },
  {
   "cell_type": "code",
   "execution_count": null,
   "metadata": {
    "collapsed": true
   },
   "outputs": [],
   "source": [
    "def credenciales_tw(ruta):\n",
    "    '''Regresa un objeto capaz de consumir la API de Twitter mediante \n",
    "    la lectura de un archivo que contiene las credenciales del desarrollador.'''\n",
    "    with open(ruta, 'r') as archivo:\n",
    "        (CONSUMER_KEY, CONSUMER_SECRET, OAUTH_TOKEN, \n",
    "        OAUTH_TOKEN_SECRET) = archivo.read().splitlines()\n",
    "        return CONSUMER_KEY, CONSUMER_SECRET,  OAUTH_TOKEN, OAUTH_TOKEN_SECRET"
   ]
  },
  {
   "cell_type": "markdown",
   "metadata": {},
   "source": [
    "Cada uno de los elementos de las credenciales será asignado a su nombre respectivo."
   ]
  },
  {
   "cell_type": "code",
   "execution_count": null,
   "metadata": {
    "collapsed": true
   },
   "outputs": [],
   "source": [
    "client_key, client_secret, resource_owner_key, resource_owner_secret = credenciales_tw('data/credenciales.txt')"
   ]
  },
  {
   "cell_type": "markdown",
   "metadata": {},
   "source": [
    "A continuación se inicia una sesión. El objeto resultante se llamará *twitter*."
   ]
  },
  {
   "cell_type": "code",
   "execution_count": null,
   "metadata": {
    "collapsed": true
   },
   "outputs": [],
   "source": [
    "twitter = OAuth1Session(client_key,client_secret, resource_owner_key, resource_owner_secret)"
   ]
  },
  {
   "cell_type": "markdown",
   "metadata": {},
   "source": [
    "El objeto twitter corresponde a una sesión que se ha abierto mediante *requests* y desde la cual se puede acceder a los recursos de la API."
   ]
  },
  {
   "cell_type": "markdown",
   "metadata": {},
   "source": [
    "Para empezar, podemos ver la configuración del usuario de la API."
   ]
  },
  {
   "cell_type": "code",
   "execution_count": null,
   "metadata": {
    "collapsed": true
   },
   "outputs": [],
   "source": [
    "r = twitter.get('https://api.twitter.com/1.1/account/settings.json')"
   ]
  },
  {
   "cell_type": "code",
   "execution_count": null,
   "metadata": {},
   "outputs": [],
   "source": [
    "print(json.dumps(r.json(), indent=2))"
   ]
  },
  {
   "cell_type": "code",
   "execution_count": null,
   "metadata": {
    "scrolled": true
   },
   "outputs": [],
   "source": [
    "print(r.url)"
   ]
  },
  {
   "cell_type": "markdown",
   "metadata": {},
   "source": [
    "## Realización de una búsqueda desde la API de Twitter.\n",
    "\n",
    "En este caso se realizará una búsqueda de los 2 tuits en más recientes ligados al hashtag *#python* escritos en español."
   ]
  },
  {
   "cell_type": "code",
   "execution_count": null,
   "metadata": {
    "collapsed": true
   },
   "outputs": [],
   "source": [
    "elementos_busqueda = {'q': \"#python\", 'count': 2, 'lang': 'es'}"
   ]
  },
  {
   "cell_type": "markdown",
   "metadata": {},
   "source": [
    "Utilizaremos el método get conforme a la documentación localizada en https://developer.twitter.com/en/docs/tweets/search/api-reference/get-search-tweets"
   ]
  },
  {
   "cell_type": "code",
   "execution_count": null,
   "metadata": {
    "collapsed": true
   },
   "outputs": [],
   "source": [
    "busqueda = twitter.get('https://api.twitter.com/1.1/search/tweets.json', params=elementos_busqueda)"
   ]
  },
  {
   "cell_type": "markdown",
   "metadata": {},
   "source": [
    "En caso de realizar esta búsqueda mediante el navegador la URL sería la siguiente:"
   ]
  },
  {
   "cell_type": "code",
   "execution_count": null,
   "metadata": {
    "scrolled": true
   },
   "outputs": [],
   "source": [
    "print(busqueda.url)"
   ]
  },
  {
   "cell_type": "markdown",
   "metadata": {},
   "source": [
    "Y estos son los datos de 2 tuits."
   ]
  },
  {
   "cell_type": "code",
   "execution_count": null,
   "metadata": {
    "scrolled": true
   },
   "outputs": [],
   "source": [
    "print(json.dumps(busqueda.json(), indent=2))"
   ]
  },
  {
   "cell_type": "markdown",
   "metadata": {},
   "source": [
    "Es importante cerrar la sesión una vez que ya no es necesario estar conectado."
   ]
  },
  {
   "cell_type": "code",
   "execution_count": null,
   "metadata": {
    "collapsed": true
   },
   "outputs": [],
   "source": [
    "twitter.close()"
   ]
  },
  {
   "cell_type": "markdown",
   "metadata": {},
   "source": [
    "Anatomía de un tuit."
   ]
  },
  {
   "cell_type": "code",
   "execution_count": null,
   "metadata": {},
   "outputs": [],
   "source": [
    "busqueda.json()['statuses'][0]"
   ]
  },
  {
   "cell_type": "markdown",
   "metadata": {},
   "source": [
    "<p style=\"text-align: center\"><a rel=\"license\" href=\"http://creativecommons.org/licenses/by/4.0/\"><img alt=\"Licencia Creative Commons\" style=\"border-width:0\" src=\"https://i.creativecommons.org/l/by/4.0/80x15.png\" /></a><br />Esta obra está bajo una <a rel=\"license\" href=\"http://creativecommons.org/licenses/by/4.0/\">Licencia Creative Commons Atribución 4.0 Internacional</a>.</p>\n",
    "<p style=\"text-align: center\">&copy; José Luis Chiquete Valdivieso. 2018.</p>"
   ]
  }
 ],
 "metadata": {
  "kernelspec": {
   "display_name": "Python 3",
   "language": "python",
   "name": "python3"
  },
  "language_info": {
   "codemirror_mode": {
    "name": "ipython",
    "version": 3
   },
   "file_extension": ".py",
   "mimetype": "text/x-python",
   "name": "python",
   "nbconvert_exporter": "python",
   "pygments_lexer": "ipython3",
   "version": "3.6.3"
  }
 },
 "nbformat": 4,
 "nbformat_minor": 2
}
