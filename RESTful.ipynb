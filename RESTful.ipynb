{
 "cells": [
  {
   "cell_type": "markdown",
   "metadata": {
    "collapsed": true,
    "slideshow": {
     "slide_type": "slide"
    }
   },
   "source": [
    "![cloudevel](imagenes/cloudevel-fondo-twitter.png)\n",
    "\n",
    "# Introducción a desarrollo de API con RESTFul.\n",
    " \n",
    "#### José Luis Chiquete V.\n",
    "#####  Marzo 2018."
   ]
  },
  {
   "cell_type": "markdown",
   "metadata": {
    "collapsed": true,
    "slideshow": {
     "slide_type": "slide"
    }
   },
   "source": [
    "# ¿Qué es una API?"
   ]
  },
  {
   "cell_type": "markdown",
   "metadata": {
    "slideshow": {
     "slide_type": "subslide"
    }
   },
   "source": [
    "Es el acrónimo de Interfaz de Programación de Aplicaciones."
   ]
  },
  {
   "cell_type": "markdown",
   "metadata": {
    "slideshow": {
     "slide_type": "subslide"
    }
   },
   "source": [
    "Es la foma natural en la que un servicio web evoluciona de SaaS a PaaS."
   ]
  },
  {
   "cell_type": "markdown",
   "metadata": {
    "slideshow": {
     "slide_type": "subslide"
    }
   },
   "source": [
    "Existen múltiples formas de desarrollar API."
   ]
  },
  {
   "cell_type": "markdown",
   "metadata": {
    "slideshow": {
     "slide_type": "slide"
    }
   },
   "source": [
    "# ¿Qué es RESTFul?"
   ]
  },
  {
   "cell_type": "markdown",
   "metadata": {
    "slideshow": {
     "slide_type": "subslide"
    }
   },
   "source": [
    "* Es el acrónimo de Representational State Transfer."
   ]
  },
  {
   "cell_type": "markdown",
   "metadata": {
    "slideshow": {
     "slide_type": "subslide"
    }
   },
   "source": [
    "* Roy Fieldin es el creador del concepto a partir de su tesis de doctorado.\n",
    "http://www.ics.uci.edu/~fielding/pubs/dissertation/rest_arch_style.htm"
   ]
  },
  {
   "cell_type": "markdown",
   "metadata": {
    "slideshow": {
     "slide_type": "subslide"
    }
   },
   "source": [
    "Define los lineamientos básicos que debe conformar una API REST."
   ]
  },
  {
   "cell_type": "markdown",
   "metadata": {
    "slideshow": {
     "slide_type": "fragment"
    }
   },
   "source": [
    "* Interfaz uniforme."
   ]
  },
  {
   "cell_type": "markdown",
   "metadata": {
    "slideshow": {
     "slide_type": "fragment"
    }
   },
   "source": [
    "* Sin estado."
   ]
  },
  {
   "cell_type": "markdown",
   "metadata": {
    "slideshow": {
     "slide_type": "fragment"
    }
   },
   "source": [
    "* Con acceso a cache."
   ]
  },
  {
   "cell_type": "markdown",
   "metadata": {
    "slideshow": {
     "slide_type": "fragment"
    }
   },
   "source": [
    "* Basada en la arquitectura cliente-servidor."
   ]
  },
  {
   "cell_type": "markdown",
   "metadata": {
    "slideshow": {
     "slide_type": "fragment"
    }
   },
   "source": [
    "* Sistema en capas."
   ]
  },
  {
   "cell_type": "markdown",
   "metadata": {
    "slideshow": {
     "slide_type": "fragment"
    }
   },
   "source": [
    "* Código bajo demanda."
   ]
  },
  {
   "cell_type": "markdown",
   "metadata": {
    "slideshow": {
     "slide_type": "slide"
    }
   },
   "source": [
    "# REST se basa en el protocolo HTTP y utiliza sus métodos."
   ]
  },
  {
   "cell_type": "markdown",
   "metadata": {
    "slideshow": {
     "slide_type": "subslide"
    }
   },
   "source": [
    "## Métodos HTTP.\n",
    "\n",
    "El protocolo HTTP define métodos o \"verbos\", los cuales permiten realizar peticiones específicas entre un cliente y un servidor. Algunos de los métodos más utilizados son:\n",
    "\n",
    "* ***GET*** se utiliza para obtener los datos de un recurso a partir de una URI. La información enviada mediante *GET* puede ser añadida a marcadores y puede ser regsitrada en las bitácoras del servidor.\n",
    "* ***HEAD*** es similar al método GET, pero sólo proporciona el encabezado de la petición y el mensaje de estado resultante.\n",
    "* ***POST*** se utiliza para cear un recurso. Los datos enviados no son expuestos en la URI sino que son enviados dentro de la estructura de la petición. \n",
    "* ***PUT*** se utiliza para sustituir un recurso existente y su estructura es similar a la de *POST*.\n",
    "* ***PATCH*** es un método que se utiliza para modificar parcialmente un recurso.\n",
    "* ***DELETE*** es un método que se utiliza para eliminar un recurso.\n",
    "\n",
    "Existen algunos otros métodos como *OPTIONS*, *TRACE* y *CONNECT*, pero no están contemplados en el alcance de este taller. Puede consultar más al respecto puede acceder a https://developer.mozilla.org/es/docs/Web/HTTP/Methods."
   ]
  },
  {
   "cell_type": "markdown",
   "metadata": {
    "slideshow": {
     "slide_type": "subslide"
    }
   },
   "source": [
    "## Idempotencia.\n",
    "\n",
    "Un método es 'idempotente' cuando no importan las veces que se envíe la misma petición, ésta dará el mismo resultado."
   ]
  },
  {
   "cell_type": "markdown",
   "metadata": {
    "slideshow": {
     "slide_type": "fragment"
    }
   },
   "source": [
    "## Seguridad.\n",
    "\n",
    "Un método se considera seguro si no modifica los recursos a los que accede."
   ]
  },
  {
   "cell_type": "markdown",
   "metadata": {
    "slideshow": {
     "slide_type": "fragment"
    }
   },
   "source": [
    "\n",
    "|*  Método  *|*  Idempotente  *|*  Seguro  *|\n",
    "| -------- | ------------- | -------- |\n",
    "|  **GET**  | Sí | Sí |\n",
    "|  **HEAD**  | Sí | Sí |\n",
    "|  **DELETE**  |Sí| No |\n",
    "|  **POST**  | No | No|\n",
    "|  **PUT**  | Sí | No|\n",
    "|  **PATCH**  |No| No| "
   ]
  },
  {
   "cell_type": "markdown",
   "metadata": {
    "slideshow": {
     "slide_type": "subslide"
    }
   },
   "source": [
    "## Advertencia sobre los métodos seguros.\n",
    "\n",
    "La seguridad de un método depende de su implementación y aún cuando se considera como una mala práctica, es posible que los métodos como *GET* sean capaces de modificar al recurso al que acceden."
   ]
  },
  {
   "cell_type": "markdown",
   "metadata": {
    "slideshow": {
     "slide_type": "slide"
    }
   },
   "source": [
    "# REST no es una especificación ni un estándar. "
   ]
  },
  {
   "cell_type": "markdown",
   "metadata": {
    "slideshow": {
     "slide_type": "subslide"
    }
   },
   "source": [
    "## REST no define:\n",
    "* Contratos ni reglas.\n",
    "* Formatos de transferencia.\n",
    "* Esquemas de seguridad más allá de los de HTTP.\n",
    "* Modos de autenticación.\n",
    "* Recursos específicos."
   ]
  },
  {
   "cell_type": "markdown",
   "metadata": {
    "slideshow": {
     "slide_type": "fragment"
    }
   },
   "source": [
    "Por lo tanto, es labor de los desarrolladores de las API definir estos elementos."
   ]
  },
  {
   "cell_type": "markdown",
   "metadata": {
    "slideshow": {
     "slide_type": "slide"
    }
   },
   "source": [
    "# Ejemplo de una API básica.\n",
    "\n",
    "A continuación se ejemplificará el desarrollo de una API básica con Flask.\n",
    "\n",
    "* El servidor correrá desde una notebook de Jupyter localizada en [servidor_api_rest.ipynb](servidor_api_rest.ipynb).\n",
    "* El clientes hará uso de la biblioteca [requests](http://docs.python-requests.org/en/master/) como cliente en la notebook localizada en [cliente_api_rest.ipynb](cliente_api_rest.ipynb).\n",
    "\n",
    "**Nota**  debe de ejecutar todas las celdas de la notebook del servidor y dejar la última de dichas celdas en ejecución para poder usar el cliente."
   ]
  },
  {
   "cell_type": "markdown",
   "metadata": {
    "slideshow": {
     "slide_type": "slide"
    }
   },
   "source": [
    "# Acceso a la API REST de Twitter.\n",
    "La API de Twitter es uno de los ejemplos más característicos de una API REST."
   ]
  },
  {
   "cell_type": "markdown",
   "metadata": {
    "slideshow": {
     "slide_type": "subslide"
    }
   },
   "source": [
    "##  Seguridad con OAuth.\n",
    "Uno de los métodos de autenticación más comunes para una API REST es la especificación [OAuth](https://oauth.net/), la cual ha sido adoptada por diversos proveedores de servicios web, entre ellos Twitter, Google, Github, Facebook,  etc. "
   ]
  },
  {
   "cell_type": "markdown",
   "metadata": {
    "slideshow": {
     "slide_type": "subslide"
    }
   },
   "source": [
    "Utilizaremos una notebook de Jupyter para acceder la API de Twitter localizada en [acceso_api_twitter.ipynb](acceso_api_twitter.ipynb)."
   ]
  },
  {
   "cell_type": "markdown",
   "metadata": {
    "slideshow": {
     "slide_type": "slide"
    }
   },
   "source": [
    "# Para saber más.\n",
    "\n",
    "http://www.restapitutorial.com"
   ]
  },
  {
   "cell_type": "markdown",
   "metadata": {
    "slideshow": {
     "slide_type": "slide"
    }
   },
   "source": [
    "![cloudevel](imagenes/cloudevel-fondo-twitter.png)\n",
    "<p style=\"text-align: center\"><a rel=\"license\" href=\"http://creativecommons.org/licenses/by/4.0/\"><img alt=\"Licencia Creative Commons\" style=\"border-width:0\" src=\"https://i.creativecommons.org/l/by/4.0/80x15.png\" /></a><br />Esta obra está bajo una <a rel=\"license\" href=\"http://creativecommons.org/licenses/by/4.0/\">Licencia Creative Commons Atribución 4.0 Internacional</a>.</p>\n",
    "<p style=\"text-align: center\">&copy; José Luis Chiquete Valdivieso. 2018.</p>"
   ]
  }
 ],
 "metadata": {
  "celltoolbar": "Slideshow",
  "kernelspec": {
   "display_name": "Python 3",
   "language": "python",
   "name": "python3"
  },
  "language_info": {
   "codemirror_mode": {
    "name": "ipython",
    "version": 3
   },
   "file_extension": ".py",
   "mimetype": "text/x-python",
   "name": "python",
   "nbconvert_exporter": "python",
   "pygments_lexer": "ipython3",
   "version": "3.6.3"
  }
 },
 "nbformat": 4,
 "nbformat_minor": 2
}
